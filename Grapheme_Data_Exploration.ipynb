{
  "nbformat": 4,
  "nbformat_minor": 0,
  "metadata": {
    "colab": {
      "name": "Grapheme_Data_Exploration.ipynb",
      "provenance": []
    },
    "kernelspec": {
      "name": "python3",
      "display_name": "Python 3"
    }
  },
  "cells": [
    {
      "cell_type": "code",
      "metadata": {
        "id": "Pm3rYB9GEpqv",
        "colab_type": "code",
        "outputId": "dd12b7bb-4a04-419e-e90e-262cb8df675d",
        "colab": {
          "base_uri": "https://localhost:8080/",
          "height": 122
        }
      },
      "source": [
        "import pandas as pd\n",
        "import numpy as np\n",
        "import matplotlib.pyplot as plt\n",
        "import cv2\n",
        "from tqdm import tqdm_notebook as tqdm\n",
        "import zipfile\n",
        "import io\n",
        "import warnings\n",
        "warnings.filterwarnings(\"ignore\")\n",
        "import unicodedata\n",
        "from sys import getsizeof\n",
        "\n",
        "# To convert text to image for getting images of Bengali graphemes\n",
        "import PIL.Image as Image, PIL.ImageDraw as ImageDraw, PIL.ImageFont as ImageFont\n",
        "%matplotlib inline\n",
        "\n",
        "from google.colab import drive\n",
        "drive.mount('/content/drive/')\n"
      ],
      "execution_count": 1,
      "outputs": [
        {
          "output_type": "stream",
          "text": [
            "Go to this URL in a browser: https://accounts.google.com/o/oauth2/auth?client_id=947318989803-6bn6qk8qdgf4n4g3pfee6491hc0brc4i.apps.googleusercontent.com&redirect_uri=urn%3aietf%3awg%3aoauth%3a2.0%3aoob&response_type=code&scope=email%20https%3a%2f%2fwww.googleapis.com%2fauth%2fdocs.test%20https%3a%2f%2fwww.googleapis.com%2fauth%2fdrive%20https%3a%2f%2fwww.googleapis.com%2fauth%2fdrive.photos.readonly%20https%3a%2f%2fwww.googleapis.com%2fauth%2fpeopleapi.readonly\n",
            "\n",
            "Enter your authorization code:\n",
            "··········\n",
            "Mounted at /content/drive/\n"
          ],
          "name": "stdout"
        }
      ]
    },
    {
      "cell_type": "code",
      "metadata": {
        "id": "XcIsAcoJEwOm",
        "colab_type": "code",
        "colab": {}
      },
      "source": [
        "main_path = '/content/drive/My Drive/0.0_Colab/bengaliai-cv19/'"
      ],
      "execution_count": 0,
      "outputs": []
    },
    {
      "cell_type": "code",
      "metadata": {
        "id": "JCSbf-pDE8u-",
        "colab_type": "code",
        "colab": {}
      },
      "source": [
        "df_class_map = pd.read_csv(main_path + 'class_map.csv')\n",
        "df_train = pd.read_csv(main_path + 'train.csv')\n",
        "df_test = pd.read_csv(main_path + 'test.csv')\n",
        "df_images0 = pd.read_parquet(main_path + 'train_image_data_0.parquet')"
      ],
      "execution_count": 0,
      "outputs": []
    },
    {
      "cell_type": "markdown",
      "metadata": {
        "id": "71iKtSl4JGeb",
        "colab_type": "text"
      },
      "source": [
        "# Class Map\n",
        "The class map lists the three components of each grapheme:\n",
        "* Grapheme root\n",
        "* Vowel diacritic\n",
        "* Consonant diacritic\n",
        "\n",
        "The grapheme roots may be comprised of one or more even basic graphemes. "
      ]
    },
    {
      "cell_type": "markdown",
      "metadata": {
        "id": "oyg2UTBiJfpZ",
        "colab_type": "text"
      },
      "source": [
        "## Grapheme Roots\n"
      ]
    },
    {
      "cell_type": "code",
      "metadata": {
        "id": "ymyLy98yE9-9",
        "colab_type": "code",
        "outputId": "f9d61740-67e4-40e6-fde4-8aa7aa01b1b6",
        "colab": {
          "base_uri": "https://localhost:8080/",
          "height": 204
        }
      },
      "source": [
        "df_class_map.head()"
      ],
      "execution_count": 4,
      "outputs": [
        {
          "output_type": "execute_result",
          "data": {
            "text/html": [
              "<div>\n",
              "<style scoped>\n",
              "    .dataframe tbody tr th:only-of-type {\n",
              "        vertical-align: middle;\n",
              "    }\n",
              "\n",
              "    .dataframe tbody tr th {\n",
              "        vertical-align: top;\n",
              "    }\n",
              "\n",
              "    .dataframe thead th {\n",
              "        text-align: right;\n",
              "    }\n",
              "</style>\n",
              "<table border=\"1\" class=\"dataframe\">\n",
              "  <thead>\n",
              "    <tr style=\"text-align: right;\">\n",
              "      <th></th>\n",
              "      <th>component_type</th>\n",
              "      <th>label</th>\n",
              "      <th>component</th>\n",
              "    </tr>\n",
              "  </thead>\n",
              "  <tbody>\n",
              "    <tr>\n",
              "      <th>0</th>\n",
              "      <td>grapheme_root</td>\n",
              "      <td>0</td>\n",
              "      <td>ং</td>\n",
              "    </tr>\n",
              "    <tr>\n",
              "      <th>1</th>\n",
              "      <td>grapheme_root</td>\n",
              "      <td>1</td>\n",
              "      <td>ঃ</td>\n",
              "    </tr>\n",
              "    <tr>\n",
              "      <th>2</th>\n",
              "      <td>grapheme_root</td>\n",
              "      <td>2</td>\n",
              "      <td>অ</td>\n",
              "    </tr>\n",
              "    <tr>\n",
              "      <th>3</th>\n",
              "      <td>grapheme_root</td>\n",
              "      <td>3</td>\n",
              "      <td>আ</td>\n",
              "    </tr>\n",
              "    <tr>\n",
              "      <th>4</th>\n",
              "      <td>grapheme_root</td>\n",
              "      <td>4</td>\n",
              "      <td>ই</td>\n",
              "    </tr>\n",
              "  </tbody>\n",
              "</table>\n",
              "</div>"
            ],
            "text/plain": [
              "  component_type  label component\n",
              "0  grapheme_root      0         ং\n",
              "1  grapheme_root      1         ঃ\n",
              "2  grapheme_root      2         অ\n",
              "3  grapheme_root      3         আ\n",
              "4  grapheme_root      4         ই"
            ]
          },
          "metadata": {
            "tags": []
          },
          "execution_count": 4
        }
      ]
    },
    {
      "cell_type": "code",
      "metadata": {
        "id": "qAIQOs29Jlv0",
        "colab_type": "code",
        "colab": {
          "base_uri": "https://localhost:8080/",
          "height": 71
        },
        "outputId": "3e969ff4-9254-498a-dea6-abc1c7d67a99"
      },
      "source": [
        "print(len(df_class_map.query(\"component_type == 'grapheme_root'\").component), \"grapheme roots\")\n",
        "print(set(df_class_map.query(\"component_type == 'grapheme_root'\").component))"
      ],
      "execution_count": 14,
      "outputs": [
        {
          "output_type": "stream",
          "text": [
            "168 grapheme roots\n",
            "{'ল্ড', 'এ', 'ও', 'শ্ব', 'ম্ম', 'হ্ম', 'ব্ব', 'জ', 'ন্ঠ', 'ক্ষ্ণ', 'ত্ম', 'ন্ত', 'য়', 'ব্ধ', 'ষ্ঠ', 'স্ট', 'ন্দ', 'ল', 'ঘ্ন', 'ক্ত', 'গ্ম', 'চ', 'জ্জ্ব', 'ড', 'ঙ্ক্ষ', 'ত্থ', 'ল্ট', 'ষ্প', 'স্থ', 'ভ', 'ষ', 'ল্ক', 'শ্ন', 'স্ন', 'ঈ', 'হ্ব', 'ঙ্গ', 'ষ্ক', 'ব্জ', 'ঋ', 'ম্ভ', 'ফ্ফ', 'ঔ', 'উ', 'ল্প', 'দ', 'ত্ত্ব', 'স্ত', 'জ্ব', 'ঞ্জ', 'ন্জ', 'ফ্ল', 'শ্ম', 'খ', 'শ', 'চ্ছ্ব', 'ফ্ট', 'ল্ম', 'র', 'ঝ', 'ম্ল', 'ষ্ফ', 'থ', 'দ্ধ', 'ক্ষ', 'ঃ', 'দ্ভ', 'দ্ঘ', 'ষ্ণ', 'ষ্ম', 'ণ্ণ', 'দ্ম', 'চ্ছ', 'ন্ট', 'জ্জ', 'ঞ্ছ', 'ণ', 'প', 'প্স', 'ই', 'ব', 'দ্দ', 'ঢ', 'ড়', 'গ্ন', 'হ্ল', 'ন্ড', 'গ্ল', 'স', 'স্ম', 'ম্ন', 'ঐ', 'ক্ল', 'ল্গ', 'স্ক', 'ব্ল', 'গ্ধ', 'ল্ল', 'স্ল', 'স্প', 'ঠ', 'শ্ল', 'ক্স', 'ত', 'প্ট', 'ঙ', 'প্ত', 'শ্চ', 'ব্দ', 'ম', 'ঘ', 'ন্স', 'ক', 'প্ল', 'ত্ত', 'ম্প', 'ভ্ল', 'ক্ষ্ম', 'ণ্ঠ', 'স্স', 'স্ব', 'ঞ', 'ল্ব', 'ন্দ্ব', 'ণ্ড', 'ক্ক', 'ন', 'ধ্ব', 'ঞ্চ', 'ঊ', 'ৎ', 'ঙ্খ', 'ছ', 'ং', 'ত্ব', 'ন্ম', 'ঙ্ক', 'ট্ট', 'ম্ব', 'ক্ট', 'ধ', 'ফ', 'হ্ন', 'ঙ্ঘ', 'য', 'স্ফ', 'ন্থ', 'প্প', 'দ্ব', 'ন্ব', 'ড্ড', 'প্ন', 'চ্চ', 'ন্ত্ব', 'জ্ঞ', 'অ', 'গ্ব', 'হ', 'ন্ন', 'ন্ধ', 'ত্ন', 'ণ্ট', 'গ', 'ঢ়', 'ট', 'ঙ্ক্ত', 'আ', 'ষ্ট'}\n"
          ],
          "name": "stdout"
        }
      ]
    },
    {
      "cell_type": "markdown",
      "metadata": {
        "id": "n137oo6FKeo4",
        "colab_type": "text"
      },
      "source": [
        "## Consonant Diacritics"
      ]
    },
    {
      "cell_type": "code",
      "metadata": {
        "id": "xw8zhRNOKhcU",
        "colab_type": "code",
        "colab": {
          "base_uri": "https://localhost:8080/",
          "height": 51
        },
        "outputId": "adf273e7-c21c-489d-f128-dda83670eb51"
      },
      "source": [
        "print(len(df_class_map.query(\"component_type == 'consonant_diacritic'\").component), \"consonant diacritics\")\n",
        "print(set(df_class_map.query(\"component_type == 'consonant_diacritic'\").component))"
      ],
      "execution_count": 15,
      "outputs": [
        {
          "output_type": "stream",
          "text": [
            "7 consonant diacritics\n",
            "{'র্', 'ঁ', '0', '্র', '্র্য', 'র্য', '্য'}\n"
          ],
          "name": "stdout"
        }
      ]
    },
    {
      "cell_type": "markdown",
      "metadata": {
        "id": "JORQtO92KuRP",
        "colab_type": "text"
      },
      "source": [
        "## Vowel Diacritics"
      ]
    },
    {
      "cell_type": "code",
      "metadata": {
        "id": "YmBEnKwkKxb6",
        "colab_type": "code",
        "colab": {
          "base_uri": "https://localhost:8080/",
          "height": 51
        },
        "outputId": "d6d15b53-e60d-46f9-ce36-dcd8c9d3c1f0"
      },
      "source": [
        "print(len(df_class_map.query(\"component_type == 'vowel_diacritic'\").component), \"vowel diacritics\")\n",
        "print(set(df_class_map.query(\"component_type == 'vowel_diacritic'\").component))"
      ],
      "execution_count": 16,
      "outputs": [
        {
          "output_type": "stream",
          "text": [
            "11 vowel diacritics\n",
            "{'া', 'ি', 'ে', 'ৌ', 'ু', 'ৃ', 'ূ', 'ো', '0', 'ৈ', 'ী'}\n"
          ],
          "name": "stdout"
        }
      ]
    },
    {
      "cell_type": "markdown",
      "metadata": {
        "id": "YtgLKTXZLDtP",
        "colab_type": "text"
      },
      "source": [
        "# Grapheme Root Length\n",
        "Each grapheme root contains of one consonant element, such as জ (ja) or 2 elements, such as ত্ম, or 3 elements, such as 'জ্জ্ব'. In the dataset for this project, no grapheme roots are more than three elements long. "
      ]
    },
    {
      "cell_type": "code",
      "metadata": {
        "id": "IGocHUKtGCbc",
        "colab_type": "code",
        "outputId": "56b06605-8724-44bf-e2f1-69c454fc8d59",
        "colab": {
          "base_uri": "https://localhost:8080/",
          "height": 204
        }
      },
      "source": [
        "df_class_map['num_comps'] = 0\n",
        "df_class_map['num_comps'] = df_class_map.component.apply(lambda x: (len(x.replace('্',''))))\n",
        "df_class_map.tail()"
      ],
      "execution_count": 0,
      "outputs": [
        {
          "output_type": "execute_result",
          "data": {
            "text/html": [
              "<div>\n",
              "<style scoped>\n",
              "    .dataframe tbody tr th:only-of-type {\n",
              "        vertical-align: middle;\n",
              "    }\n",
              "\n",
              "    .dataframe tbody tr th {\n",
              "        vertical-align: top;\n",
              "    }\n",
              "\n",
              "    .dataframe thead th {\n",
              "        text-align: right;\n",
              "    }\n",
              "</style>\n",
              "<table border=\"1\" class=\"dataframe\">\n",
              "  <thead>\n",
              "    <tr style=\"text-align: right;\">\n",
              "      <th></th>\n",
              "      <th>component_type</th>\n",
              "      <th>label</th>\n",
              "      <th>component</th>\n",
              "      <th>num_comps</th>\n",
              "    </tr>\n",
              "  </thead>\n",
              "  <tbody>\n",
              "    <tr>\n",
              "      <th>181</th>\n",
              "      <td>consonant_diacritic</td>\n",
              "      <td>2</td>\n",
              "      <td>র্</td>\n",
              "      <td>1</td>\n",
              "    </tr>\n",
              "    <tr>\n",
              "      <th>182</th>\n",
              "      <td>consonant_diacritic</td>\n",
              "      <td>3</td>\n",
              "      <td>র্য</td>\n",
              "      <td>2</td>\n",
              "    </tr>\n",
              "    <tr>\n",
              "      <th>183</th>\n",
              "      <td>consonant_diacritic</td>\n",
              "      <td>4</td>\n",
              "      <td>্য</td>\n",
              "      <td>1</td>\n",
              "    </tr>\n",
              "    <tr>\n",
              "      <th>184</th>\n",
              "      <td>consonant_diacritic</td>\n",
              "      <td>5</td>\n",
              "      <td>্র</td>\n",
              "      <td>1</td>\n",
              "    </tr>\n",
              "    <tr>\n",
              "      <th>185</th>\n",
              "      <td>consonant_diacritic</td>\n",
              "      <td>6</td>\n",
              "      <td>্র্য</td>\n",
              "      <td>2</td>\n",
              "    </tr>\n",
              "  </tbody>\n",
              "</table>\n",
              "</div>"
            ],
            "text/plain": [
              "          component_type  label component  num_comps\n",
              "181  consonant_diacritic      2        র্          1\n",
              "182  consonant_diacritic      3       র্য          2\n",
              "183  consonant_diacritic      4        ্য          1\n",
              "184  consonant_diacritic      5        ্র          1\n",
              "185  consonant_diacritic      6      ্র্য          2"
            ]
          },
          "metadata": {
            "tags": []
          },
          "execution_count": 5
        }
      ]
    },
    {
      "cell_type": "code",
      "metadata": {
        "id": "Fi5WXwGhGrGh",
        "colab_type": "code",
        "outputId": "1960be24-2c49-4ad3-db3b-a24023175796",
        "colab": {
          "base_uri": "https://localhost:8080/",
          "height": 204
        }
      },
      "source": [
        "df_class_map.head()"
      ],
      "execution_count": 0,
      "outputs": [
        {
          "output_type": "execute_result",
          "data": {
            "text/html": [
              "<div>\n",
              "<style scoped>\n",
              "    .dataframe tbody tr th:only-of-type {\n",
              "        vertical-align: middle;\n",
              "    }\n",
              "\n",
              "    .dataframe tbody tr th {\n",
              "        vertical-align: top;\n",
              "    }\n",
              "\n",
              "    .dataframe thead th {\n",
              "        text-align: right;\n",
              "    }\n",
              "</style>\n",
              "<table border=\"1\" class=\"dataframe\">\n",
              "  <thead>\n",
              "    <tr style=\"text-align: right;\">\n",
              "      <th></th>\n",
              "      <th>component_type</th>\n",
              "      <th>label</th>\n",
              "      <th>component</th>\n",
              "      <th>num_comps</th>\n",
              "    </tr>\n",
              "  </thead>\n",
              "  <tbody>\n",
              "    <tr>\n",
              "      <th>0</th>\n",
              "      <td>grapheme_root</td>\n",
              "      <td>0</td>\n",
              "      <td>ং</td>\n",
              "      <td>1</td>\n",
              "    </tr>\n",
              "    <tr>\n",
              "      <th>1</th>\n",
              "      <td>grapheme_root</td>\n",
              "      <td>1</td>\n",
              "      <td>ঃ</td>\n",
              "      <td>1</td>\n",
              "    </tr>\n",
              "    <tr>\n",
              "      <th>2</th>\n",
              "      <td>grapheme_root</td>\n",
              "      <td>2</td>\n",
              "      <td>অ</td>\n",
              "      <td>1</td>\n",
              "    </tr>\n",
              "    <tr>\n",
              "      <th>3</th>\n",
              "      <td>grapheme_root</td>\n",
              "      <td>3</td>\n",
              "      <td>আ</td>\n",
              "      <td>1</td>\n",
              "    </tr>\n",
              "    <tr>\n",
              "      <th>4</th>\n",
              "      <td>grapheme_root</td>\n",
              "      <td>4</td>\n",
              "      <td>ই</td>\n",
              "      <td>1</td>\n",
              "    </tr>\n",
              "  </tbody>\n",
              "</table>\n",
              "</div>"
            ],
            "text/plain": [
              "  component_type  label component  num_comps\n",
              "0  grapheme_root      0         ং          1\n",
              "1  grapheme_root      1         ঃ          1\n",
              "2  grapheme_root      2         অ          1\n",
              "3  grapheme_root      3         আ          1\n",
              "4  grapheme_root      4         ই          1"
            ]
          },
          "metadata": {
            "tags": []
          },
          "execution_count": 6
        }
      ]
    },
    {
      "cell_type": "code",
      "metadata": {
        "id": "5Pdylw1aMccr",
        "colab_type": "code",
        "colab": {}
      },
      "source": [
        "grapheme_roots = set(df_class_map.query(\"component_type=='grapheme_root'\").component)\n",
        "consonant_diacritics = set(df_class_map.query(\"component_type=='consonant_diacritic'\").component)\n",
        "vowel_diacritics = set(df_class_map.query(\"component_type=='vowel_diacritic'\").component)"
      ],
      "execution_count": 0,
      "outputs": []
    },
    {
      "cell_type": "code",
      "metadata": {
        "id": "bREB1VlHGugL",
        "colab_type": "code",
        "outputId": "b27fcf02-a650-4283-fd2e-c717b26a63bb",
        "colab": {
          "base_uri": "https://localhost:8080/",
          "height": 204
        }
      },
      "source": [
        "df_train.head()"
      ],
      "execution_count": 0,
      "outputs": [
        {
          "output_type": "execute_result",
          "data": {
            "text/html": [
              "<div>\n",
              "<style scoped>\n",
              "    .dataframe tbody tr th:only-of-type {\n",
              "        vertical-align: middle;\n",
              "    }\n",
              "\n",
              "    .dataframe tbody tr th {\n",
              "        vertical-align: top;\n",
              "    }\n",
              "\n",
              "    .dataframe thead th {\n",
              "        text-align: right;\n",
              "    }\n",
              "</style>\n",
              "<table border=\"1\" class=\"dataframe\">\n",
              "  <thead>\n",
              "    <tr style=\"text-align: right;\">\n",
              "      <th></th>\n",
              "      <th>image_id</th>\n",
              "      <th>grapheme_root</th>\n",
              "      <th>vowel_diacritic</th>\n",
              "      <th>consonant_diacritic</th>\n",
              "      <th>grapheme</th>\n",
              "    </tr>\n",
              "  </thead>\n",
              "  <tbody>\n",
              "    <tr>\n",
              "      <th>0</th>\n",
              "      <td>Train_0</td>\n",
              "      <td>15</td>\n",
              "      <td>9</td>\n",
              "      <td>5</td>\n",
              "      <td>ক্ট্রো</td>\n",
              "    </tr>\n",
              "    <tr>\n",
              "      <th>1</th>\n",
              "      <td>Train_1</td>\n",
              "      <td>159</td>\n",
              "      <td>0</td>\n",
              "      <td>0</td>\n",
              "      <td>হ</td>\n",
              "    </tr>\n",
              "    <tr>\n",
              "      <th>2</th>\n",
              "      <td>Train_2</td>\n",
              "      <td>22</td>\n",
              "      <td>3</td>\n",
              "      <td>5</td>\n",
              "      <td>খ্রী</td>\n",
              "    </tr>\n",
              "    <tr>\n",
              "      <th>3</th>\n",
              "      <td>Train_3</td>\n",
              "      <td>53</td>\n",
              "      <td>2</td>\n",
              "      <td>2</td>\n",
              "      <td>র্টি</td>\n",
              "    </tr>\n",
              "    <tr>\n",
              "      <th>4</th>\n",
              "      <td>Train_4</td>\n",
              "      <td>71</td>\n",
              "      <td>9</td>\n",
              "      <td>5</td>\n",
              "      <td>থ্রো</td>\n",
              "    </tr>\n",
              "  </tbody>\n",
              "</table>\n",
              "</div>"
            ],
            "text/plain": [
              "  image_id  grapheme_root  vowel_diacritic  consonant_diacritic grapheme\n",
              "0  Train_0             15                9                    5   ক্ট্রো\n",
              "1  Train_1            159                0                    0        হ\n",
              "2  Train_2             22                3                    5     খ্রী\n",
              "3  Train_3             53                2                    2     র্টি\n",
              "4  Train_4             71                9                    5     থ্রো"
            ]
          },
          "metadata": {
            "tags": []
          },
          "execution_count": 8
        }
      ]
    },
    {
      "cell_type": "code",
      "metadata": {
        "id": "r9-HeLi-G2y6",
        "colab_type": "code",
        "colab": {}
      },
      "source": [
        "df_train_expanded = df_train[['image_id', 'grapheme']]\n",
        "df_train_expanded['length'] = 0\n",
        "df_train_expanded['length'] = df_train_expanded.grapheme.apply(lambda x: (len(x.replace('্',''))))\n"
      ],
      "execution_count": 0,
      "outputs": []
    },
    {
      "cell_type": "code",
      "metadata": {
        "id": "GXEm6wBoHDuy",
        "colab_type": "code",
        "outputId": "63d19f8d-bffd-45c0-bcc7-00a5195fe073",
        "colab": {
          "base_uri": "https://localhost:8080/",
          "height": 204
        }
      },
      "source": [
        "df_train_expanded.head()"
      ],
      "execution_count": 0,
      "outputs": [
        {
          "output_type": "execute_result",
          "data": {
            "text/html": [
              "<div>\n",
              "<style scoped>\n",
              "    .dataframe tbody tr th:only-of-type {\n",
              "        vertical-align: middle;\n",
              "    }\n",
              "\n",
              "    .dataframe tbody tr th {\n",
              "        vertical-align: top;\n",
              "    }\n",
              "\n",
              "    .dataframe thead th {\n",
              "        text-align: right;\n",
              "    }\n",
              "</style>\n",
              "<table border=\"1\" class=\"dataframe\">\n",
              "  <thead>\n",
              "    <tr style=\"text-align: right;\">\n",
              "      <th></th>\n",
              "      <th>image_id</th>\n",
              "      <th>grapheme</th>\n",
              "      <th>length</th>\n",
              "    </tr>\n",
              "  </thead>\n",
              "  <tbody>\n",
              "    <tr>\n",
              "      <th>0</th>\n",
              "      <td>Train_0</td>\n",
              "      <td>ক্ট্রো</td>\n",
              "      <td>4</td>\n",
              "    </tr>\n",
              "    <tr>\n",
              "      <th>1</th>\n",
              "      <td>Train_1</td>\n",
              "      <td>হ</td>\n",
              "      <td>1</td>\n",
              "    </tr>\n",
              "    <tr>\n",
              "      <th>2</th>\n",
              "      <td>Train_2</td>\n",
              "      <td>খ্রী</td>\n",
              "      <td>3</td>\n",
              "    </tr>\n",
              "    <tr>\n",
              "      <th>3</th>\n",
              "      <td>Train_3</td>\n",
              "      <td>র্টি</td>\n",
              "      <td>3</td>\n",
              "    </tr>\n",
              "    <tr>\n",
              "      <th>4</th>\n",
              "      <td>Train_4</td>\n",
              "      <td>থ্রো</td>\n",
              "      <td>3</td>\n",
              "    </tr>\n",
              "  </tbody>\n",
              "</table>\n",
              "</div>"
            ],
            "text/plain": [
              "  image_id grapheme  length\n",
              "0  Train_0   ক্ট্রো       4\n",
              "1  Train_1        হ       1\n",
              "2  Train_2     খ্রী       3\n",
              "3  Train_3     র্টি       3\n",
              "4  Train_4     থ্রো       3"
            ]
          },
          "metadata": {
            "tags": []
          },
          "execution_count": 10
        }
      ]
    },
    {
      "cell_type": "markdown",
      "metadata": {
        "id": "GYS3V_mUJSwO",
        "colab_type": "text"
      },
      "source": [
        "# Compound Graphemes\n",
        "\n",
        "Some graphemes, such as 'ক্ট্রো' are comprised of multiple graphemes along with the respective vowel or consonant diacritic. "
      ]
    },
    {
      "cell_type": "code",
      "metadata": {
        "id": "MAI26rR6HLkR",
        "colab_type": "code",
        "outputId": "04f807be-3e9b-41c5-e9bf-83801d395c40",
        "colab": {
          "base_uri": "https://localhost:8080/",
          "height": 408
        }
      },
      "source": [
        "strs = ['ক্ট্রো', 'থ্রো', 'খ্রী']\n",
        "for str in strs:\n",
        "  print(str + \" = \")\n",
        "  for s in str:\n",
        "    print(s + ' + ')\n",
        "  print('\\n')\n"
      ],
      "execution_count": 0,
      "outputs": [
        {
          "output_type": "stream",
          "text": [
            "ক্ট্রো = \n",
            "ক + \n",
            "্ + \n",
            "ট + \n",
            "্ + \n",
            "র + \n",
            "ো + \n",
            "\n",
            "\n",
            "থ্রো = \n",
            "থ + \n",
            "্ + \n",
            "র + \n",
            "ো + \n",
            "\n",
            "\n",
            "খ্রী = \n",
            "খ + \n",
            "্ + \n",
            "র + \n",
            "ী + \n",
            "\n",
            "\n"
          ],
          "name": "stdout"
        }
      ]
    },
    {
      "cell_type": "code",
      "metadata": {
        "id": "cgVzQR9-INaD",
        "colab_type": "code",
        "colab": {}
      },
      "source": [
        ""
      ],
      "execution_count": 0,
      "outputs": []
    },
    {
      "cell_type": "markdown",
      "metadata": {
        "id": "oa5jWLNaKs4K",
        "colab_type": "text"
      },
      "source": [
        "Since many of the basic grapheme units in the class map comprise of multiple graphemes, we will not expand them to include all"
      ]
    },
    {
      "cell_type": "code",
      "metadata": {
        "id": "cU02HhJwK1mW",
        "colab_type": "code",
        "outputId": "13de1a19-9f93-438b-a50a-51926f07a2de",
        "colab": {
          "base_uri": "https://localhost:8080/",
          "height": 419
        }
      },
      "source": [
        "df_class_map.sort_values(by = \"num_comps\", ascending=False)"
      ],
      "execution_count": 0,
      "outputs": [
        {
          "output_type": "execute_result",
          "data": {
            "text/html": [
              "<div>\n",
              "<style scoped>\n",
              "    .dataframe tbody tr th:only-of-type {\n",
              "        vertical-align: middle;\n",
              "    }\n",
              "\n",
              "    .dataframe tbody tr th {\n",
              "        vertical-align: top;\n",
              "    }\n",
              "\n",
              "    .dataframe thead th {\n",
              "        text-align: right;\n",
              "    }\n",
              "</style>\n",
              "<table border=\"1\" class=\"dataframe\">\n",
              "  <thead>\n",
              "    <tr style=\"text-align: right;\">\n",
              "      <th></th>\n",
              "      <th>component_type</th>\n",
              "      <th>label</th>\n",
              "      <th>component</th>\n",
              "      <th>num_comps</th>\n",
              "    </tr>\n",
              "  </thead>\n",
              "  <tbody>\n",
              "    <tr>\n",
              "      <th>41</th>\n",
              "      <td>grapheme_root</td>\n",
              "      <td>41</td>\n",
              "      <td>চ্ছ্ব</td>\n",
              "      <td>3</td>\n",
              "    </tr>\n",
              "    <tr>\n",
              "      <th>90</th>\n",
              "      <td>grapheme_root</td>\n",
              "      <td>90</td>\n",
              "      <td>ন্দ্ব</td>\n",
              "      <td>3</td>\n",
              "    </tr>\n",
              "    <tr>\n",
              "      <th>20</th>\n",
              "      <td>grapheme_root</td>\n",
              "      <td>20</td>\n",
              "      <td>ক্ষ্ম</td>\n",
              "      <td>3</td>\n",
              "    </tr>\n",
              "    <tr>\n",
              "      <th>19</th>\n",
              "      <td>grapheme_root</td>\n",
              "      <td>19</td>\n",
              "      <td>ক্ষ্ণ</td>\n",
              "      <td>3</td>\n",
              "    </tr>\n",
              "    <tr>\n",
              "      <th>66</th>\n",
              "      <td>grapheme_root</td>\n",
              "      <td>66</td>\n",
              "      <td>ত্ত্ব</td>\n",
              "      <td>3</td>\n",
              "    </tr>\n",
              "    <tr>\n",
              "      <th>...</th>\n",
              "      <td>...</td>\n",
              "      <td>...</td>\n",
              "      <td>...</td>\n",
              "      <td>...</td>\n",
              "    </tr>\n",
              "    <tr>\n",
              "      <th>139</th>\n",
              "      <td>grapheme_root</td>\n",
              "      <td>139</td>\n",
              "      <td>ষ</td>\n",
              "      <td>1</td>\n",
              "    </tr>\n",
              "    <tr>\n",
              "      <th>23</th>\n",
              "      <td>grapheme_root</td>\n",
              "      <td>23</td>\n",
              "      <td>গ</td>\n",
              "      <td>1</td>\n",
              "    </tr>\n",
              "    <tr>\n",
              "      <th>22</th>\n",
              "      <td>grapheme_root</td>\n",
              "      <td>22</td>\n",
              "      <td>খ</td>\n",
              "      <td>1</td>\n",
              "    </tr>\n",
              "    <tr>\n",
              "      <th>147</th>\n",
              "      <td>grapheme_root</td>\n",
              "      <td>147</td>\n",
              "      <td>স</td>\n",
              "      <td>1</td>\n",
              "    </tr>\n",
              "    <tr>\n",
              "      <th>0</th>\n",
              "      <td>grapheme_root</td>\n",
              "      <td>0</td>\n",
              "      <td>ং</td>\n",
              "      <td>1</td>\n",
              "    </tr>\n",
              "  </tbody>\n",
              "</table>\n",
              "<p>186 rows × 4 columns</p>\n",
              "</div>"
            ],
            "text/plain": [
              "    component_type  label component  num_comps\n",
              "41   grapheme_root     41     চ্ছ্ব          3\n",
              "90   grapheme_root     90     ন্দ্ব          3\n",
              "20   grapheme_root     20     ক্ষ্ম          3\n",
              "19   grapheme_root     19     ক্ষ্ণ          3\n",
              "66   grapheme_root     66     ত্ত্ব          3\n",
              "..             ...    ...       ...        ...\n",
              "139  grapheme_root    139         ষ          1\n",
              "23   grapheme_root     23         গ          1\n",
              "22   grapheme_root     22         খ          1\n",
              "147  grapheme_root    147         স          1\n",
              "0    grapheme_root      0         ং          1\n",
              "\n",
              "[186 rows x 4 columns]"
            ]
          },
          "metadata": {
            "tags": []
          },
          "execution_count": 12
        }
      ]
    },
    {
      "cell_type": "markdown",
      "metadata": {
        "id": "Y2QoIKcrK5HN",
        "colab_type": "text"
      },
      "source": [
        "Thus, we see that there are a maximum of 3 basic grapheme that make up the graphemes in the class map. "
      ]
    },
    {
      "cell_type": "code",
      "metadata": {
        "id": "qT4-WbD8LCtf",
        "colab_type": "code",
        "outputId": "ff175d1a-d06a-43b6-d389-fcb4576f13b3",
        "colab": {
          "base_uri": "https://localhost:8080/",
          "height": 34
        }
      },
      "source": [
        "str = 'চ্ছ্ব'\n",
        "list(str.replace('্', ''))"
      ],
      "execution_count": 0,
      "outputs": [
        {
          "output_type": "execute_result",
          "data": {
            "text/plain": [
              "['চ', 'ছ', 'ব']"
            ]
          },
          "metadata": {
            "tags": []
          },
          "execution_count": 13
        }
      ]
    },
    {
      "cell_type": "code",
      "metadata": {
        "id": "svDbU52TPW2f",
        "colab_type": "code",
        "outputId": "e115a374-95bf-433f-9ba2-e0be09cb68ac",
        "colab": {
          "base_uri": "https://localhost:8080/",
          "height": 130
        }
      },
      "source": [
        "df_roots = pd.DataFrame()\n",
        "for row in df_class_map.iterrows():\n",
        "  comp = row[1].component\n",
        "  elements = list(str.replace('্', ''))\n",
        "  \n"
      ],
      "execution_count": 0,
      "outputs": [
        {
          "output_type": "error",
          "ename": "SyntaxError",
          "evalue": "ignored",
          "traceback": [
            "\u001b[0;36m  File \u001b[0;32m\"<ipython-input-14-27d8c3264107>\"\u001b[0;36m, line \u001b[0;32m1\u001b[0m\n\u001b[0;31m    for df\u001b[0m\n\u001b[0m          ^\u001b[0m\n\u001b[0;31mSyntaxError\u001b[0m\u001b[0;31m:\u001b[0m invalid syntax\n"
          ]
        }
      ]
    }
  ]
}